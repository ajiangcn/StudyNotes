{
 "cells": [
  {
   "cell_type": "code",
   "execution_count": 17,
   "metadata": {},
   "outputs": [],
   "source": [
    "import json\n",
    "\n",
    "with open('aapl6m.json') as hist_price_json:\n",
    "    data = json.load(hist_price_json)\n",
    "    hist_price = [p['close'] for p in data]\n"
   ]
  },
  {
   "cell_type": "code",
   "execution_count": 18,
   "metadata": {},
   "outputs": [
    {
     "data": {
      "text/plain": [
       "[216.1951,\n",
       " 216.5523,\n",
       " 216.6813,\n",
       " 218.3285,\n",
       " 215.9768,\n",
       " 219.0826,\n",
       " 220.4718,\n",
       " 218.7155,\n",
       " 223.2104,\n",
       " 223.9943,\n",
       " 225.5026,\n",
       " 227.5069,\n",
       " 230.2754,\n",
       " 226.2269,\n",
       " 222.5555,\n",
       " 222.0396,\n",
       " 225.1156,\n",
       " 214.6869,\n",
       " 212.7916,\n",
       " 220.3924,\n",
       " 215.6791,\n",
       " 220.4321,\n",
       " 219.4795,\n",
       " 214.3495,\n",
       " 217.614,\n",
       " 218.9437,\n",
       " 221.0076,\n",
       " 213.4267,\n",
       " 218.1003,\n",
       " 214.6273,\n",
       " 210.5987,\n",
       " 211.6505,\n",
       " 217.1675,\n",
       " 220.5015,\n",
       " 205.8755,\n",
       " 200.0311,\n",
       " 202.1942,\n",
       " 208.3264,\n",
       " 207.5995,\n",
       " 203.5967,\n",
       " 193.3407,\n",
       " 191.409,\n",
       " 186.0022,\n",
       " 190.5925,\n",
       " 192.7034,\n",
       " 185.0662,\n",
       " 176.2241,\n",
       " 176.025,\n",
       " 171.5541,\n",
       " 173.8742,\n",
       " 173.4958,\n",
       " 180.1672,\n",
       " 178.7831,\n",
       " 177.8173,\n",
       " 184.0306,\n",
       " 175.9354,\n",
       " 173.9738,\n",
       " 167.7704,\n",
       " 168.8756,\n",
       " 167.9098,\n",
       " 168.3778,\n",
       " 170.2199,\n",
       " 164.7732,\n",
       " 163.2398,\n",
       " 165.3607,\n",
       " 160.2028,\n",
       " 156.1602,\n",
       " 150.0862,\n",
       " 146.2029,\n",
       " 156.4987,\n",
       " 155.4831,\n",
       " 155.5627,\n",
       " 157.0663,\n",
       " 157.2455,\n",
       " 141.5827,\n",
       " 147.6268,\n",
       " 147.2982,\n",
       " 150.1061,\n",
       " 152.6552,\n",
       " 153.1431,\n",
       " 151.6396,\n",
       " 149.3594,\n",
       " 152.4162,\n",
       " 154.2783,\n",
       " 155.1943,\n",
       " 156.1502,\n",
       " 152.6453,\n",
       " 153.2626,\n",
       " 152.0478,\n",
       " 157.0862,\n",
       " 155.6324,\n",
       " 154.0194,\n",
       " 164.5442,\n",
       " 165.7291,\n",
       " 165.8088,\n",
       " 170.5186,\n",
       " 173.4361,\n",
       " 173.4958,\n",
       " 170.2099,\n",
       " 170.41,\n",
       " 169.43,\n",
       " 170.89,\n",
       " 170.18,\n",
       " 170.8,\n",
       " 170.42,\n",
       " 170.93,\n",
       " 172.03,\n",
       " 171.06,\n",
       " 172.97,\n",
       " 174.23,\n",
       " 174.33,\n",
       " 174.87,\n",
       " 173.15,\n",
       " 174.97,\n",
       " 175.85,\n",
       " 175.53,\n",
       " 174.52,\n",
       " 172.5,\n",
       " 172.91,\n",
       " 178.9,\n",
       " 180.91,\n",
       " 181.71,\n",
       " 183.73,\n",
       " 186.12,\n",
       " 188.02,\n",
       " 186.53,\n",
       " 188.16,\n",
       " 195.09,\n",
       " 191.05,\n",
       " 188.74,\n",
       " 186.79,\n",
       " 188.47,\n",
       " 188.72,\n",
       " 189.95,\n",
       " 191.24,\n",
       " 194.02,\n",
       " 195.35,\n",
       " 195.69]"
      ]
     },
     "execution_count": 18,
     "metadata": {},
     "output_type": "execute_result"
    }
   ],
   "source": [
    "hist_price"
   ]
  },
  {
   "cell_type": "code",
   "execution_count": 19,
   "metadata": {},
   "outputs": [
    {
     "data": {
      "text/plain": [
       "(array([ 1.,  6.,  9., 10.,  2.,  7., 16., 18.,  5.,  4., 10.,  7.,  3.,\n",
       "         3.,  2.,  3., 10., 13.,  6.,  3.]),\n",
       " array([141.5827  , 146.017335, 150.45197 , 154.886605, 159.32124 ,\n",
       "        163.755875, 168.19051 , 172.625145, 177.05978 , 181.494415,\n",
       "        185.92905 , 190.363685, 194.79832 , 199.232955, 203.66759 ,\n",
       "        208.102225, 212.53686 , 216.971495, 221.40613 , 225.840765,\n",
       "        230.2754  ]),\n",
       " <a list of 20 Patch objects>)"
      ]
     },
     "execution_count": 19,
     "metadata": {},
     "output_type": "execute_result"
    },
    {
     "data": {
      "image/png": "[encoded data removed]",
      "text/plain": [
       "<Figure size 432x288 with 1 Axes>"
      ]
     },
     "metadata": {
      "needs_background": "light"
     },
     "output_type": "display_data"
    }
   ],
   "source": [
    "%matplotlib inline\n",
    "\n",
    "import matplotlib\n",
    "import numpy as np\n",
    "import matplotlib.pyplot as plt\n",
    "\n",
    "plt.hist(hist_price, 20)"
   ]
  },
  {
   "cell_type": "code",
   "execution_count": 20,
   "metadata": {},
   "outputs": [
    {
     "name": "stdout",
     "output_type": "stream",
     "text": [
      "0.29656455479292676\n",
      "79.29017943599274\n",
      "101.55871117243439\n"
     ]
    }
   ],
   "source": [
    "# fit log normal distribution\n",
    "import numpy as np\n",
    "from scipy.stats import lognorm\n",
    "\n",
    "estimated_sigma, loc, scale = lognorm.fit(hist_price)\n",
    "\n",
    "print(estimated_sigma)\n",
    "print(scale)\n",
    "print(loc)"
   ]
  },
  {
   "cell_type": "code",
   "execution_count": 21,
   "metadata": {},
   "outputs": [],
   "source": [
    "rand_data = lognorm.rvs(estimated_sigma, loc, scale, size=130)\n",
    "\n",
    "rand_data = [x for x in rand_data if x > 68 and x < 250]\n"
   ]
  },
  {
   "cell_type": "code",
   "execution_count": 22,
   "metadata": {},
   "outputs": [
    {
     "data": {
      "text/plain": [
       "1.3452293981995502"
      ]
     },
     "execution_count": 22,
     "metadata": {},
     "output_type": "execute_result"
    }
   ],
   "source": [
    "np.exp(estimated_sigma)"
   ]
  },
  {
   "cell_type": "code",
   "execution_count": 23,
   "metadata": {},
   "outputs": [
    {
     "data": {
      "text/plain": [
       "(array([ 3.,  6.,  4., 10., 12., 12., 10.,  8., 11.,  9.,  8., 10.,  3.,\n",
       "         5.,  3.,  1.,  4.,  3.,  1.,  2.]),\n",
       " array([144.04081683, 148.8064641 , 153.57211137, 158.33775863,\n",
       "        163.1034059 , 167.86905316, 172.63470043, 177.40034769,\n",
       "        182.16599496, 186.93164222, 191.69728949, 196.46293675,\n",
       "        201.22858402, 205.99423128, 210.75987855, 215.52552581,\n",
       "        220.29117308, 225.05682034, 229.82246761, 234.58811487,\n",
       "        239.35376214]),\n",
       " <a list of 20 Patch objects>)"
      ]
     },
     "execution_count": 23,
     "metadata": {},
     "output_type": "execute_result"
    },
    {
     "data": {
      "image/png": "[encoded data removed]",
      "text/plain": [
       "<Figure size 432x288 with 1 Axes>"
      ]
     },
     "metadata": {
      "needs_background": "light"
     },
     "output_type": "display_data"
    }
   ],
   "source": [
    "plt.hist(rand_data, 20)"
   ]
  },
  {
   "cell_type": "code",
   "execution_count": 24,
   "metadata": {},
   "outputs": [
    {
     "data": {
      "text/plain": [
       "([array([ 2.,  3.,  6.,  9., 10., 14.,  7., 11., 12., 10.,  7., 10.,  4.,\n",
       "          6.,  3.,  1.,  4.,  3.,  1.,  2.]),\n",
       "  array([ 2.,  5., 15.,  5.,  6., 13., 19.,  8.,  5., 10.,  9.,  2.,  2.,\n",
       "          3.,  7., 13.,  9.,  4.,  1.,  0.])],\n",
       " array([141.5827    , 146.47125311, 151.35980621, 156.24835932,\n",
       "        161.13691243, 166.02546553, 170.91401864, 175.80257175,\n",
       "        180.69112485, 185.57967796, 190.46823107, 195.35678418,\n",
       "        200.24533728, 205.13389039, 210.0224435 , 214.9109966 ,\n",
       "        219.79954971, 224.68810282, 229.57665592, 234.46520903,\n",
       "        239.35376214]),\n",
       " <a list of 2 Lists of Patches objects>)"
      ]
     },
     "execution_count": 24,
     "metadata": {},
     "output_type": "execute_result"
    },
    {
     "data": {
      "image/png": "[encoded data removed]",
      "text/plain": [
       "<Figure size 432x288 with 1 Axes>"
      ]
     },
     "metadata": {
      "needs_background": "light"
     },
     "output_type": "display_data"
    }
   ],
   "source": [
    "plt.hist([rand_data, hist_price], 20)"
   ]
  },
  {
   "cell_type": "code",
   "execution_count": 25,
   "metadata": {},
   "outputs": [],
   "source": [
    "import  math\n",
    "from scipy.stats import norm\n",
    "\n",
    "def cdf(z, mu=0.0, sigma=1.0):\n",
    "    return norm.cdf(z, mu, sigma)\n",
    "\n",
    "def get_bs_call_price(s, x, r, sigma, t):\n",
    "    a = (math.log(s/x) + (r+sigma*sigma/2.0)*t) / (sigma * math.sqrt(t))\n",
    "    b = a - sigma*math.sqrt(t)\n",
    "    return s*cdf(a) - x*math.exp(-r*t)*cdf(b)"
   ]
  },
  {
   "cell_type": "code",
   "execution_count": 33,
   "metadata": {},
   "outputs": [
    {
     "data": {
      "text/plain": [
       "0.3313487460586444"
      ]
     },
     "execution_count": 33,
     "metadata": {},
     "output_type": "execute_result"
    }
   ],
   "source": [
    "get_bs_call_price(196, 200, 0.025, 0.2, 0.01)"
   ]
  },
  {
   "cell_type": "code",
   "execution_count": 27,
   "metadata": {},
   "outputs": [
    {
     "data": {
      "text/plain": [
       "10.35026572078145"
      ]
     },
     "execution_count": 27,
     "metadata": {},
     "output_type": "execute_result"
    }
   ],
   "source": [
    "get_bs_call_price(196, 200, 0.025, 0.2, 0.5)"
   ]
  },
  {
   "cell_type": "code",
   "execution_count": 28,
   "metadata": {},
   "outputs": [],
   "source": [
    "# find implied valolity\n"
   ]
  },
  {
   "cell_type": "code",
   "execution_count": 29,
   "metadata": {},
   "outputs": [
    {
     "data": {
      "text/plain": [
       "1.2214027581601699"
      ]
     },
     "execution_count": 29,
     "metadata": {},
     "output_type": "execute_result"
    }
   ],
   "source": [
    "np.exp(0.2)"
   ]
  },
  {
   "cell_type": "code",
   "execution_count": null,
   "metadata": {},
   "outputs": [],
   "source": []
  }
 ],
 "metadata": {
  "kernelspec": {
   "display_name": "Python 3",
   "language": "python",
   "name": "python3"
  },
  "language_info": {
   "codemirror_mode": {
    "name": "ipython",
    "version": 3
   },
   "file_extension": ".py",
   "mimetype": "text/x-python",
   "name": "python",
   "nbconvert_exporter": "python",
   "pygments_lexer": "ipython3",
   "version": "3.7.3"
  }
 },
 "nbformat": 4,
 "nbformat_minor": 2
}
